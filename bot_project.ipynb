{
 "cells": [
  {
   "cell_type": "code",
   "execution_count": 40,
   "metadata": {},
   "outputs": [
    {
     "name": "stdout",
     "output_type": "stream",
     "text": [
      "Hello! My name is Aid.\n",
      "I was created in 2020.\n",
      "Please, remind me your name.\n",
      "What a great name you have, marcus!\n",
      "Let me guess your age.\n",
      "Enter remainders of dividing your age by 3, 5 and 7.\n",
      "Your age is 22; that's a good time to start programming!\n",
      "Now I will prove to you that I can count to any number you want.\n",
      "0 !\n",
      "1 !\n",
      "2 !\n",
      "Let's test your programming knowledge.\n",
      "Why do we use methods?\n",
      "1. To repeat a statement multiple times.\n",
      "2. To decompose a program into several small subroutines.\n",
      "3. To determine the execution time of a program.\n",
      "4. To interrupt the execution of a program.\n",
      "Please, try again.\n",
      "Let's test your programming knowledge.\n",
      "Why do we use methods?\n",
      "1. To repeat a statement multiple times.\n",
      "2. To decompose a program into several small subroutines.\n",
      "3. To determine the execution time of a program.\n",
      "4. To interrupt the execution of a program.\n",
      "Congratulations, have a nice day!\n"
     ]
    }
   ],
   "source": [
    "def greet(bot_name, birth_year):\n",
    "    print('Hello! My name is ' + bot_name + '.')\n",
    "    print('I was created in ' + birth_year + '.')\n",
    "\n",
    "\n",
    "def remind_name():\n",
    "    print('Please, remind me your name.')\n",
    "    name = input()\n",
    "    print('What a great name you have, ' + name + '!')\n",
    "\n",
    "\n",
    "def guess_age():\n",
    "    print('Let me guess your age.')\n",
    "    print('Enter remainders of dividing your age by 3, 5 and 7.')\n",
    "\n",
    "    rem3 = int(input())\n",
    "    rem5 = int(input())\n",
    "    rem7 = int(input())\n",
    "    age = (rem3 * 70 + rem5 * 21 + rem7 * 15) % 105\n",
    "\n",
    "    print(\"Your age is \" + str(age) + \"; that's a good time to start programming!\")\n",
    "\n",
    "\n",
    "def count():\n",
    "    print('Now I will prove to you that I can count to any number you want.')\n",
    "\n",
    "    num = int(input())\n",
    "    curr = 0\n",
    "    while curr <= num:\n",
    "        print(curr, '!')\n",
    "        curr = curr + 1\n",
    "\n",
    "\n",
    "def test():\n",
    "    print(\"Let's test your programming knowledge.\")\n",
    "    print(\"Why do we use methods?\")\n",
    "    choices=[\"1. To repeat a statement multiple times.\",\"2. To decompose a program into several small subroutines.\",\"3. To determine the execution time of a program.\",\"4. To interrupt the execution of a program.\"]\n",
    "    print(*choices, sep=\"\\n\")\n",
    "    ans=int(input())\n",
    "    index=choices.index(\"2. To decompose a program into several small subroutines.\")+1\n",
    "    if ans != index:\n",
    "        print(\"Please, try again.\")\n",
    "        test()\n",
    "        \n",
    "\n",
    "def end():\n",
    "    print('Congratulations, have a nice day!')\n",
    "\n",
    "\n",
    "greet('Aid', '2020')  # change it as you need\n",
    "remind_name()\n",
    "guess_age()\n",
    "count()\n",
    "test()\n",
    "end()\n"
   ]
  },
  {
   "cell_type": "code",
   "execution_count": null,
   "metadata": {},
   "outputs": [],
   "source": [
    "\n",
    "print(\"Why do we use methods?\")\n",
    "choices=[\"1. To repeat a statement multiple times.\",\"2. To decompose a program into several small subroutines.\",\"3. To determine the execution time of a program.\",\"4. To interrupt the execution of a program.\"]\n",
    "print(*choices, sep=\"\\n\")\n",
    "ans=int(input())\n",
    "index=choices.index(\"2. To decompose a program into several small subroutines.\")+1\n",
    "if ans == index:\n",
    "    print(\"Congratulations, have a nice day!\")\n",
    "else:\n",
    "    print(\"Please, try again.\")\n"
   ]
  }
 ],
 "metadata": {
  "kernelspec": {
   "display_name": "Python 3.10.4 64-bit",
   "language": "python",
   "name": "python3"
  },
  "language_info": {
   "codemirror_mode": {
    "name": "ipython",
    "version": 3
   },
   "file_extension": ".py",
   "mimetype": "text/x-python",
   "name": "python",
   "nbconvert_exporter": "python",
   "pygments_lexer": "ipython3",
   "version": "3.10.4"
  },
  "orig_nbformat": 4,
  "vscode": {
   "interpreter": {
    "hash": "9a47b67dc9f46948aafa7c330f4ce655bcd047130fcc1dd47534188d41a7db3c"
   }
  }
 },
 "nbformat": 4,
 "nbformat_minor": 2
}
